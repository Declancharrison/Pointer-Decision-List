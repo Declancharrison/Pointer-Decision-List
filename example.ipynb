{
 "cells": [
  {
   "cell_type": "code",
   "execution_count": null,
   "metadata": {},
   "outputs": [],
   "source": [
    "import folktables\n",
    "import pandas as pd\n",
    "import sklearn\n",
    "from sklearn.model_selection import train_test_split\n",
    "import dill as pkl\n",
    "import numpy as np\n",
    "import pdl"
   ]
  },
  {
   "cell_type": "code",
   "execution_count": null,
   "metadata": {},
   "outputs": [],
   "source": [
    "ACSIncome = folktables.BasicProblem(\n",
    "    features=[\n",
    "        \"ST\",\n",
    "        \"AGEP\",\n",
    "        \"CIT\",\n",
    "        \"COW\",\n",
    "        \"DDRS\",\n",
    "        \"DEAR\",\n",
    "        \"DEYE\",\n",
    "        \"DOUT\",\n",
    "        \"DRAT\",\n",
    "        \"DREM\",\n",
    "        \"ENG\",\n",
    "        \"FER\",\n",
    "        \"JWTRNS\",\n",
    "        \"LANX\",\n",
    "        \"MAR\",\n",
    "        \"MIL\",\n",
    "        \"SCHL\",\n",
    "        \"SEX\",\n",
    "        'WKHP',\n",
    "        \"OCCP\",\n",
    "        \"RAC1P\"\n",
    "    ],\n",
    "    target='PINCP',\n",
    "    # target_transform=lambda x: x > 50000,    \n",
    "    preprocess=folktables.adult_filter,\n",
    "    postprocess=lambda x: np.nan_to_num(x, -1),\n",
    ")\n",
    "\n",
    "data_source = folktables.ACSDataSource(survey_year='2021', horizon='1-Year', survey='person')\n",
    "acs_data = data_source.get_data(states=[\"VA\",\"TX\", \"WV\", \"KY\", \"FL\", \"OK\", \"TN\", \"AK\", \"SC\", \"AL\", \"NC\", \"LA\", \"MS\", \"MD\", \"GA\", \"DE\"], download=True)\n",
    "data_np, labels, _ = ACSIncome.df_to_numpy(acs_data)\n",
    "indices = labels < 100000\n",
    "data_np = data_np[indices]\n",
    "labels = labels[indices]\n",
    "data = pd.DataFrame(data_np, columns = [\"ST\", \"AGEP\", \"CIT\", \"COW\", \"DDRS\", \"DEAR\", \"DEYE\", \"DOUT\", \"DRAT\", \"DREM\", \"ENG\", \"FER\", \"JWTRNS\", \"LANX\", \"MAR\", \"MIL\", \"SCHL\", \"SEX\", 'WKHP', \"OCCP\", 'RAC1P'])\n",
    "\n",
    "x_train, x_val_test, y_train, y_val_test = train_test_split(data, labels, test_size = .3, random_state = 23)\n",
    "x_val, x_test, y_val, y_test = train_test_split(x_val_test, y_val_test, test_size = .5, random_state = 23)"
   ]
  },
  {
   "cell_type": "code",
   "execution_count": null,
   "metadata": {},
   "outputs": [],
   "source": [
    "from sklearn.tree import DecisionTreeRegressor\n",
    "clf = DecisionTreeRegressor(max_depth = 1, random_state = 42)\n",
    "clf.fit(x_train, y_train)\n",
    "team_pdl = pdl.PointerDecisionList(clf, x_train, y_train, x_val, y_val, alpha = 100000, min_group_size = 1)"
   ]
  },
  {
   "cell_type": "code",
   "execution_count": null,
   "metadata": {},
   "outputs": [],
   "source": [
    "def g(X):\n",
    "    return X['RAC1P'] == 1\n",
    "\n",
    "clf = sklearn.tree.DecisionTreeRegressor(max_depth = 5)\n",
    "h = clf.predict"
   ]
  },
  {
   "cell_type": "code",
   "execution_count": null,
   "metadata": {},
   "outputs": [],
   "source": [
    "team_pdl.update(g,h,x_train, y_train, x_val, y_val)"
   ]
  }
 ],
 "metadata": {
  "language_info": {
   "name": "python"
  },
  "orig_nbformat": 4
 },
 "nbformat": 4,
 "nbformat_minor": 2
}
